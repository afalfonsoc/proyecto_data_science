{
 "cells": [
  {
   "cell_type": "code",
   "execution_count": 4,
   "id": "74be70cf-dae2-4607-b2c0-168033e0d37a",
   "metadata": {},
   "outputs": [
    {
     "data": {
      "text/html": [
       "<div>\n",
       "<style scoped>\n",
       "    .dataframe tbody tr th:only-of-type {\n",
       "        vertical-align: middle;\n",
       "    }\n",
       "\n",
       "    .dataframe tbody tr th {\n",
       "        vertical-align: top;\n",
       "    }\n",
       "\n",
       "    .dataframe thead th {\n",
       "        text-align: right;\n",
       "    }\n",
       "</style>\n",
       "<table border=\"1\" class=\"dataframe\">\n",
       "  <thead>\n",
       "    <tr style=\"text-align: right;\">\n",
       "      <th></th>\n",
       "      <th>comment</th>\n",
       "      <th>id</th>\n",
       "    </tr>\n",
       "  </thead>\n",
       "  <tbody>\n",
       "    <tr>\n",
       "      <th>0</th>\n",
       "      <td>Hi u/radome9! Welcome to r/RussiaUkraineWar202...</td>\n",
       "      <td>y3lwyt</td>\n",
       "    </tr>\n",
       "    <tr>\n",
       "      <th>1</th>\n",
       "      <td>How fucked up is it that the promise of NOT be...</td>\n",
       "      <td>y3lwyt</td>\n",
       "    </tr>\n",
       "    <tr>\n",
       "      <th>2</th>\n",
       "      <td>* Shooting your commanding officer? 8 years.\\n...</td>\n",
       "      <td>y3lwyt</td>\n",
       "    </tr>\n",
       "    <tr>\n",
       "      <th>3</th>\n",
       "      <td>Glorious</td>\n",
       "      <td>y3lwyt</td>\n",
       "    </tr>\n",
       "    <tr>\n",
       "      <th>4</th>\n",
       "      <td>Hi u/MrAutoFem! Welcome to r/RussiaUkraineWar2...</td>\n",
       "      <td>y3kp8y</td>\n",
       "    </tr>\n",
       "  </tbody>\n",
       "</table>\n",
       "</div>"
      ],
      "text/plain": [
       "                                             comment      id\n",
       "0  Hi u/radome9! Welcome to r/RussiaUkraineWar202...  y3lwyt\n",
       "1  How fucked up is it that the promise of NOT be...  y3lwyt\n",
       "2  * Shooting your commanding officer? 8 years.\\n...  y3lwyt\n",
       "3                                           Glorious  y3lwyt\n",
       "4  Hi u/MrAutoFem! Welcome to r/RussiaUkraineWar2...  y3kp8y"
      ]
     },
     "execution_count": 4,
     "metadata": {},
     "output_type": "execute_result"
    }
   ],
   "source": [
    "import pandas as pd \n",
    "\n",
    "New_post_comments=pd.read_csv(\"datos/new_post_comments.csv\")\n",
    "New_post_comments.head()"
   ]
  },
  {
   "cell_type": "code",
   "execution_count": 5,
   "id": "f20612c6-99b9-4622-8ba7-b18044708f1f",
   "metadata": {},
   "outputs": [
    {
     "data": {
      "text/html": [
       "<div>\n",
       "<style scoped>\n",
       "    .dataframe tbody tr th:only-of-type {\n",
       "        vertical-align: middle;\n",
       "    }\n",
       "\n",
       "    .dataframe tbody tr th {\n",
       "        vertical-align: top;\n",
       "    }\n",
       "\n",
       "    .dataframe thead th {\n",
       "        text-align: right;\n",
       "    }\n",
       "</style>\n",
       "<table border=\"1\" class=\"dataframe\">\n",
       "  <thead>\n",
       "    <tr style=\"text-align: right;\">\n",
       "      <th></th>\n",
       "      <th>comment</th>\n",
       "      <th>id</th>\n",
       "    </tr>\n",
       "  </thead>\n",
       "  <tbody>\n",
       "    <tr>\n",
       "      <th>0</th>\n",
       "      <td>Hi u/CFlower240! Thank you for contributing to...</td>\n",
       "      <td>v0gm37</td>\n",
       "    </tr>\n",
       "    <tr>\n",
       "      <th>1</th>\n",
       "      <td>Hi u/TacticalWarri0r! Welcome to r/RussiaUkrai...</td>\n",
       "      <td>y26xch</td>\n",
       "    </tr>\n",
       "    <tr>\n",
       "      <th>2</th>\n",
       "      <td>These lads gona mop the floor with russias shi...</td>\n",
       "      <td>y26xch</td>\n",
       "    </tr>\n",
       "    <tr>\n",
       "      <th>3</th>\n",
       "      <td>These will be elite\\n\\nThey'll make a dent whe...</td>\n",
       "      <td>y26xch</td>\n",
       "    </tr>\n",
       "    <tr>\n",
       "      <th>4</th>\n",
       "      <td>Well done UK, don’t forget we have been traini...</td>\n",
       "      <td>y26xch</td>\n",
       "    </tr>\n",
       "  </tbody>\n",
       "</table>\n",
       "</div>"
      ],
      "text/plain": [
       "                                             comment      id\n",
       "0  Hi u/CFlower240! Thank you for contributing to...  v0gm37\n",
       "1  Hi u/TacticalWarri0r! Welcome to r/RussiaUkrai...  y26xch\n",
       "2  These lads gona mop the floor with russias shi...  y26xch\n",
       "3  These will be elite\\n\\nThey'll make a dent whe...  y26xch\n",
       "4  Well done UK, don’t forget we have been traini...  y26xch"
      ]
     },
     "execution_count": 5,
     "metadata": {},
     "output_type": "execute_result"
    }
   ],
   "source": [
    "Hot_post_comments=pd.read_csv(\"datos/hot_post_comments.csv\")\n",
    "Hot_post_comments.head()"
   ]
  },
  {
   "cell_type": "code",
   "execution_count": 6,
   "id": "847ef8b9-3974-45bb-b38f-0490d1e17d27",
   "metadata": {},
   "outputs": [
    {
     "data": {
      "text/html": [
       "<div>\n",
       "<style scoped>\n",
       "    .dataframe tbody tr th:only-of-type {\n",
       "        vertical-align: middle;\n",
       "    }\n",
       "\n",
       "    .dataframe tbody tr th {\n",
       "        vertical-align: top;\n",
       "    }\n",
       "\n",
       "    .dataframe thead th {\n",
       "        text-align: right;\n",
       "    }\n",
       "</style>\n",
       "<table border=\"1\" class=\"dataframe\">\n",
       "  <thead>\n",
       "    <tr style=\"text-align: right;\">\n",
       "      <th></th>\n",
       "      <th>comment</th>\n",
       "      <th>id</th>\n",
       "    </tr>\n",
       "  </thead>\n",
       "  <tbody>\n",
       "    <tr>\n",
       "      <th>0</th>\n",
       "      <td>Hi u/BasharAlAspaci! Thank you for contributin...</td>\n",
       "      <td>u5o56g</td>\n",
       "    </tr>\n",
       "    <tr>\n",
       "      <th>1</th>\n",
       "      <td>Even tho im getting downvoted to hell im glad ...</td>\n",
       "      <td>u5o56g</td>\n",
       "    </tr>\n",
       "    <tr>\n",
       "      <th>2</th>\n",
       "      <td>As a brit I'm offended that we wernt mentioned...</td>\n",
       "      <td>u5o56g</td>\n",
       "    </tr>\n",
       "    <tr>\n",
       "      <th>3</th>\n",
       "      <td>How is he still alive</td>\n",
       "      <td>u5o56g</td>\n",
       "    </tr>\n",
       "    <tr>\n",
       "      <th>4</th>\n",
       "      <td>We need a drone dedicated to his traitor fuckt...</td>\n",
       "      <td>u5o56g</td>\n",
       "    </tr>\n",
       "  </tbody>\n",
       "</table>\n",
       "</div>"
      ],
      "text/plain": [
       "                                             comment      id\n",
       "0  Hi u/BasharAlAspaci! Thank you for contributin...  u5o56g\n",
       "1  Even tho im getting downvoted to hell im glad ...  u5o56g\n",
       "2  As a brit I'm offended that we wernt mentioned...  u5o56g\n",
       "3                              How is he still alive  u5o56g\n",
       "4  We need a drone dedicated to his traitor fuckt...  u5o56g"
      ]
     },
     "execution_count": 6,
     "metadata": {},
     "output_type": "execute_result"
    }
   ],
   "source": [
    "Controversial_posts_comments=pd.read_csv(\"datos/controversial_posts_comments.csv\")\n",
    "Controversial_posts_comments.head()"
   ]
  },
  {
   "cell_type": "code",
   "execution_count": 7,
   "id": "07cef385-1204-426e-a5a3-48646431b093",
   "metadata": {},
   "outputs": [
    {
     "data": {
      "text/html": [
       "<div>\n",
       "<style scoped>\n",
       "    .dataframe tbody tr th:only-of-type {\n",
       "        vertical-align: middle;\n",
       "    }\n",
       "\n",
       "    .dataframe tbody tr th {\n",
       "        vertical-align: top;\n",
       "    }\n",
       "\n",
       "    .dataframe thead th {\n",
       "        text-align: right;\n",
       "    }\n",
       "</style>\n",
       "<table border=\"1\" class=\"dataframe\">\n",
       "  <thead>\n",
       "    <tr style=\"text-align: right;\">\n",
       "      <th></th>\n",
       "      <th>comment</th>\n",
       "      <th>id</th>\n",
       "    </tr>\n",
       "  </thead>\n",
       "  <tbody>\n",
       "    <tr>\n",
       "      <th>0</th>\n",
       "      <td>Hi u/MrAutoFem! Thank you for contributing to ...</td>\n",
       "      <td>ueslps</td>\n",
       "    </tr>\n",
       "    <tr>\n",
       "      <th>1</th>\n",
       "      <td>Hi u/TacticalWarri0r! Welcome to r/RussiaUkrai...</td>\n",
       "      <td>y26xch</td>\n",
       "    </tr>\n",
       "    <tr>\n",
       "      <th>2</th>\n",
       "      <td>These lads gona mop the floor with russias shi...</td>\n",
       "      <td>y26xch</td>\n",
       "    </tr>\n",
       "    <tr>\n",
       "      <th>3</th>\n",
       "      <td>These will be elite\\n\\nThey'll make a dent whe...</td>\n",
       "      <td>y26xch</td>\n",
       "    </tr>\n",
       "    <tr>\n",
       "      <th>4</th>\n",
       "      <td>Well done UK, don’t forget we have been traini...</td>\n",
       "      <td>y26xch</td>\n",
       "    </tr>\n",
       "  </tbody>\n",
       "</table>\n",
       "</div>"
      ],
      "text/plain": [
       "                                             comment      id\n",
       "0  Hi u/MrAutoFem! Thank you for contributing to ...  ueslps\n",
       "1  Hi u/TacticalWarri0r! Welcome to r/RussiaUkrai...  y26xch\n",
       "2  These lads gona mop the floor with russias shi...  y26xch\n",
       "3  These will be elite\\n\\nThey'll make a dent whe...  y26xch\n",
       "4  Well done UK, don’t forget we have been traini...  y26xch"
      ]
     },
     "execution_count": 7,
     "metadata": {},
     "output_type": "execute_result"
    }
   ],
   "source": [
    "Top_posts_comments=pd.read_csv(\"datos/top_posts_comments.csv\")\n",
    "Top_posts_comments.head()"
   ]
  },
  {
   "cell_type": "code",
   "execution_count": 9,
   "id": "416859ba-34b1-4f6e-afbb-ab13cee2f3d6",
   "metadata": {},
   "outputs": [
    {
     "name": "stdout",
     "output_type": "stream",
     "text": [
      "<class 'pandas.core.frame.DataFrame'>\n",
      "RangeIndex: 16435 entries, 0 to 16434\n",
      "Data columns (total 2 columns):\n",
      " #   Column   Non-Null Count  Dtype \n",
      "---  ------   --------------  ----- \n",
      " 0   comment  16435 non-null  object\n",
      " 1   id       16435 non-null  object\n",
      "dtypes: object(2)\n",
      "memory usage: 256.9+ KB\n"
     ]
    }
   ],
   "source": [
    "New_post_comments.info()"
   ]
  },
  {
   "cell_type": "code",
   "execution_count": 10,
   "id": "477bd5c0-9597-4797-899e-836e08154df0",
   "metadata": {},
   "outputs": [
    {
     "name": "stdout",
     "output_type": "stream",
     "text": [
      "<class 'pandas.core.frame.DataFrame'>\n",
      "RangeIndex: 15072 entries, 0 to 15071\n",
      "Data columns (total 2 columns):\n",
      " #   Column   Non-Null Count  Dtype \n",
      "---  ------   --------------  ----- \n",
      " 0   comment  15072 non-null  object\n",
      " 1   id       15072 non-null  object\n",
      "dtypes: object(2)\n",
      "memory usage: 235.6+ KB\n"
     ]
    }
   ],
   "source": [
    "Hot_post_comments.info()"
   ]
  },
  {
   "cell_type": "code",
   "execution_count": 11,
   "id": "d1cfd497-dca7-4b67-a787-c4e00af91f55",
   "metadata": {},
   "outputs": [
    {
     "name": "stdout",
     "output_type": "stream",
     "text": [
      "<class 'pandas.core.frame.DataFrame'>\n",
      "RangeIndex: 16897 entries, 0 to 16896\n",
      "Data columns (total 2 columns):\n",
      " #   Column   Non-Null Count  Dtype \n",
      "---  ------   --------------  ----- \n",
      " 0   comment  16897 non-null  object\n",
      " 1   id       16897 non-null  object\n",
      "dtypes: object(2)\n",
      "memory usage: 264.1+ KB\n"
     ]
    }
   ],
   "source": [
    "Controversial_posts_comments.info()"
   ]
  },
  {
   "cell_type": "code",
   "execution_count": 12,
   "id": "5d112eeb-4168-4649-a2c1-6333fef7179d",
   "metadata": {},
   "outputs": [
    {
     "name": "stdout",
     "output_type": "stream",
     "text": [
      "<class 'pandas.core.frame.DataFrame'>\n",
      "RangeIndex: 64906 entries, 0 to 64905\n",
      "Data columns (total 2 columns):\n",
      " #   Column   Non-Null Count  Dtype \n",
      "---  ------   --------------  ----- \n",
      " 0   comment  64906 non-null  object\n",
      " 1   id       64906 non-null  object\n",
      "dtypes: object(2)\n",
      "memory usage: 1014.3+ KB\n"
     ]
    }
   ],
   "source": [
    "Top_posts_comments.info()"
   ]
  },
  {
   "cell_type": "code",
   "execution_count": 13,
   "id": "9590f154-3a91-494f-afcd-87d7e306ae1a",
   "metadata": {},
   "outputs": [
    {
     "data": {
      "text/html": [
       "<div>\n",
       "<style scoped>\n",
       "    .dataframe tbody tr th:only-of-type {\n",
       "        vertical-align: middle;\n",
       "    }\n",
       "\n",
       "    .dataframe tbody tr th {\n",
       "        vertical-align: top;\n",
       "    }\n",
       "\n",
       "    .dataframe thead th {\n",
       "        text-align: right;\n",
       "    }\n",
       "</style>\n",
       "<table border=\"1\" class=\"dataframe\">\n",
       "  <thead>\n",
       "    <tr style=\"text-align: right;\">\n",
       "      <th></th>\n",
       "      <th>comment</th>\n",
       "      <th>id</th>\n",
       "    </tr>\n",
       "  </thead>\n",
       "  <tbody>\n",
       "    <tr>\n",
       "      <th>0</th>\n",
       "      <td>Hi u/radome9! Welcome to r/RussiaUkraineWar202...</td>\n",
       "      <td>y3lwyt</td>\n",
       "    </tr>\n",
       "    <tr>\n",
       "      <th>1</th>\n",
       "      <td>How fucked up is it that the promise of NOT be...</td>\n",
       "      <td>y3lwyt</td>\n",
       "    </tr>\n",
       "    <tr>\n",
       "      <th>2</th>\n",
       "      <td>* Shooting your commanding officer? 8 years.\\n...</td>\n",
       "      <td>y3lwyt</td>\n",
       "    </tr>\n",
       "    <tr>\n",
       "      <th>3</th>\n",
       "      <td>Glorious</td>\n",
       "      <td>y3lwyt</td>\n",
       "    </tr>\n",
       "    <tr>\n",
       "      <th>4</th>\n",
       "      <td>Hi u/MrAutoFem! Welcome to r/RussiaUkraineWar2...</td>\n",
       "      <td>y3kp8y</td>\n",
       "    </tr>\n",
       "    <tr>\n",
       "      <th>...</th>\n",
       "      <td>...</td>\n",
       "      <td>...</td>\n",
       "    </tr>\n",
       "    <tr>\n",
       "      <th>64901</th>\n",
       "      <td>Guy looks like a solid warrior and she looks l...</td>\n",
       "      <td>ueathx</td>\n",
       "    </tr>\n",
       "    <tr>\n",
       "      <th>64902</th>\n",
       "      <td>Strong  photo</td>\n",
       "      <td>ueathx</td>\n",
       "    </tr>\n",
       "    <tr>\n",
       "      <th>64903</th>\n",
       "      <td>Ukraine is giving us all a lesson in courage a...</td>\n",
       "      <td>ueathx</td>\n",
       "    </tr>\n",
       "    <tr>\n",
       "      <th>64904</th>\n",
       "      <td>edit:\\n\\nthe world lives Ukraine</td>\n",
       "      <td>ueathx</td>\n",
       "    </tr>\n",
       "    <tr>\n",
       "      <th>64905</th>\n",
       "      <td>This may be the best wedding photo I’ve ever s...</td>\n",
       "      <td>ueathx</td>\n",
       "    </tr>\n",
       "  </tbody>\n",
       "</table>\n",
       "<p>113310 rows × 2 columns</p>\n",
       "</div>"
      ],
      "text/plain": [
       "                                                 comment      id\n",
       "0      Hi u/radome9! Welcome to r/RussiaUkraineWar202...  y3lwyt\n",
       "1      How fucked up is it that the promise of NOT be...  y3lwyt\n",
       "2      * Shooting your commanding officer? 8 years.\\n...  y3lwyt\n",
       "3                                               Glorious  y3lwyt\n",
       "4      Hi u/MrAutoFem! Welcome to r/RussiaUkraineWar2...  y3kp8y\n",
       "...                                                  ...     ...\n",
       "64901  Guy looks like a solid warrior and she looks l...  ueathx\n",
       "64902                                      Strong  photo  ueathx\n",
       "64903  Ukraine is giving us all a lesson in courage a...  ueathx\n",
       "64904                   edit:\\n\\nthe world lives Ukraine  ueathx\n",
       "64905  This may be the best wedding photo I’ve ever s...  ueathx\n",
       "\n",
       "[113310 rows x 2 columns]"
      ]
     },
     "metadata": {},
     "output_type": "display_data"
    }
   ],
   "source": [
    "All_posts_comments=pd.concat([New_post_comments, Hot_post_comments, Controversial_posts_comments, Top_posts_comments])\n",
    "display(All_posts_comments)"
   ]
  },
  {
   "cell_type": "code",
   "execution_count": 14,
   "id": "a940f0da-1725-4a4d-8b87-25e6c6c2ef25",
   "metadata": {},
   "outputs": [
    {
     "name": "stdout",
     "output_type": "stream",
     "text": [
      "<class 'pandas.core.frame.DataFrame'>\n",
      "Int64Index: 113310 entries, 0 to 64905\n",
      "Data columns (total 2 columns):\n",
      " #   Column   Non-Null Count   Dtype \n",
      "---  ------   --------------   ----- \n",
      " 0   comment  113310 non-null  object\n",
      " 1   id       113310 non-null  object\n",
      "dtypes: object(2)\n",
      "memory usage: 2.6+ MB\n"
     ]
    }
   ],
   "source": [
    "All_posts_comments.info()"
   ]
  }
 ],
 "metadata": {
  "kernelspec": {
   "display_name": "Python 3 (ipykernel)",
   "language": "python",
   "name": "python3"
  },
  "language_info": {
   "codemirror_mode": {
    "name": "ipython",
    "version": 3
   },
   "file_extension": ".py",
   "mimetype": "text/x-python",
   "name": "python",
   "nbconvert_exporter": "python",
   "pygments_lexer": "ipython3",
   "version": "3.9.13"
  }
 },
 "nbformat": 4,
 "nbformat_minor": 5
}
